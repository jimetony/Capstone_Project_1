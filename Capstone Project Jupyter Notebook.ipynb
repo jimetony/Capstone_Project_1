{
 "cells": [
  {
   "cell_type": "markdown",
   "metadata": {},
   "source": [
    "This notebook is used for Data Wrangling."
   ]
  },
  {
   "cell_type": "code",
   "execution_count": 110,
   "metadata": {},
   "outputs": [],
   "source": [
    "import pandas as pd\n",
    "import json\n",
    "import csv\n",
    "from pandas.io.json import json_normalize"
   ]
  },
  {
   "cell_type": "code",
   "execution_count": 111,
   "metadata": {},
   "outputs": [
    {
     "name": "stdout",
     "output_type": "stream",
     "text": [
      "<class 'dict'>\n"
     ]
    }
   ],
   "source": [
    "# open json files and check the types of each entry\n",
    "\n",
    "file1_json = json.load((open('stations1.json')))\n",
    "#check types\n",
    "print(type(file1_json))"
   ]
  },
  {
   "cell_type": "code",
   "execution_count": 112,
   "metadata": {},
   "outputs": [
    {
     "name": "stdout",
     "output_type": "stream",
     "text": [
      "dict_keys(['executionTime', 'stationBeanList'])\n"
     ]
    }
   ],
   "source": [
    "print(file1_json.keys())"
   ]
  },
  {
   "cell_type": "code",
   "execution_count": 113,
   "metadata": {},
   "outputs": [
    {
     "name": "stdout",
     "output_type": "stream",
     "text": [
      "<class 'list'>\n"
     ]
    }
   ],
   "source": [
    "print(type(file1_json['stationBeanList']))"
   ]
  },
  {
   "cell_type": "code",
   "execution_count": 114,
   "metadata": {},
   "outputs": [
    {
     "name": "stdout",
     "output_type": "stream",
     "text": [
      "{'id': 237, 'stationName': 'E 11 St & 2 Ave', 'availableDocks': 29, 'totalDocks': 39, 'latitude': 40.73047309, 'longitude': -73.98672378, 'statusValue': 'In Service', 'statusKey': 1, 'availableBikes': 9, 'stAddress1': 'E 11 St & 2 Ave', 'stAddress2': '', 'city': '', 'postalCode': '', 'location': '', 'altitude': '', 'testStation': False, 'lastCommunicationTime': '2019-11-06 11:26:19 PM', 'landMark': ''}\n"
     ]
    }
   ],
   "source": [
    "#print(file1_json['stationBeanList'][0])\n",
    "\n",
    "# in order to focus on the values/fields within each key/station, i created an array to store only the stations\n",
    "# and its fields. \n",
    "\n",
    "file1_arr = []\n",
    "for key in file1_json['stationBeanList']:\n",
    "    file1_arr.append(key)\n",
    "\n",
    "print(file1_arr[0])\n",
    "\n",
    "# after seeing all fields in one station, i can distinguish what i want from this data."
   ]
  },
  {
   "cell_type": "code",
   "execution_count": 115,
   "metadata": {},
   "outputs": [
    {
     "data": {
      "text/plain": [
       "'\\nid_arr = []\\navailDocks_arr = []\\ntotalDocks_arr = []\\navailBikes_arr = []\\n\\nfor key in file1_arr:\\n    for value in key:\\n        if(value == \"id\"):\\n            id_arr.append(key[value])\\n        if(value == \"availableDocks\"):\\n            availDocks_arr.append(key[value])\\n        if(value == \"totalDocks\"):\\n            totalDocks_arr.append(key[value])\\n        if(value == \"availableBikes\"):\\n            availBikes_arr.append(key[value])\\n#        print(key[value])\\n\\nprint(\"id array: Length: \", len(id_arr), id_arr)\\n#print(\"Docks arrray: Length: \", len(availDocks_arr), availDocks_arr)\\n#print(\"Total docks array: Length: \", len(totalDocks_arr), totalDocks_arr)\\n#print(\"Bikes arrray: Length: \", len(availBikes_arr), availBikes_arr)\\n\\n# a check to see if any station was repeated\\nprint(\"Unique len\", len(set(id_arr)), len(id_arr))\\n'"
      ]
     },
     "execution_count": 115,
     "metadata": {},
     "output_type": "execute_result"
    }
   ],
   "source": [
    "# From json files keys() i need : id, availableDocks, totalDocks, availableBikes\n",
    "# Set up for data frame: tripduration, starttime, stoptime, start id, start name, availableDocks, totalDocks, end id, end name, availableDocks, totalDocks\n",
    "\n",
    "\n",
    "'''\n",
    "id_arr = []\n",
    "availDocks_arr = []\n",
    "totalDocks_arr = []\n",
    "availBikes_arr = []\n",
    "\n",
    "for key in file1_arr:\n",
    "    for value in key:\n",
    "        if(value == \"id\"):\n",
    "            id_arr.append(key[value])\n",
    "        if(value == \"availableDocks\"):\n",
    "            availDocks_arr.append(key[value])\n",
    "        if(value == \"totalDocks\"):\n",
    "            totalDocks_arr.append(key[value])\n",
    "        if(value == \"availableBikes\"):\n",
    "            availBikes_arr.append(key[value])\n",
    "#        print(key[value])\n",
    "\n",
    "print(\"id array: Length: \", len(id_arr), id_arr)\n",
    "#print(\"Docks arrray: Length: \", len(availDocks_arr), availDocks_arr)\n",
    "#print(\"Total docks array: Length: \", len(totalDocks_arr), totalDocks_arr)\n",
    "#print(\"Bikes arrray: Length: \", len(availBikes_arr), availBikes_arr)\n",
    "\n",
    "# a check to see if any station was repeated\n",
    "print(\"Unique len\", len(set(id_arr)), len(id_arr))\n",
    "'''\n",
    "\n",
    "\n",
    "# not what I had in mind, change thought process. Can I make this simpler?"
   ]
  },
  {
   "cell_type": "code",
   "execution_count": 116,
   "metadata": {},
   "outputs": [
    {
     "name": "stdout",
     "output_type": "stream",
     "text": [
      "{'id': 237, 'availableDocks': 29, 'totalDocks': 39, 'availableBikes': 9}\n"
     ]
    }
   ],
   "source": [
    "# From json files keys() i need : id, availableDocks, totalDocks, availableBikes\n",
    "# Set up for data frame: tripduration, starttime, stoptime, start id, start name, availableDocks, totalDocks, end id, end name, availableDocks, totalDocks\n",
    "\n",
    "# create a dict to store each station id and its value(\"fields\") needed into another dict\n",
    "\n",
    "id_dict = {}\n",
    "fields_needed = ['id', 'availableDocks', 'totalDocks', 'availableBikes']\n",
    "\n",
    "#loop through each stations fields needed and create a dict to store in each station id\n",
    "for station in file1_arr:\n",
    "    info_dict = {}\n",
    "    for field in station:\n",
    "        if field in fields_needed:\n",
    "            info_dict[field] = station[field]\n",
    "    id_dict[info_dict['id']] = info_dict      \n",
    "\n",
    "            \n",
    "# the data I needed is now parsed into a dict of dicts by station id\n",
    "print(id_dict[237])"
   ]
  },
  {
   "cell_type": "code",
   "execution_count": 117,
   "metadata": {},
   "outputs": [],
   "source": [
    "# read in the csv file\n",
    "\n",
    "data = pd.read_csv(\"201909-citibike-tripdata.csv\")"
   ]
  },
  {
   "cell_type": "code",
   "execution_count": 118,
   "metadata": {
    "scrolled": true
   },
   "outputs": [
    {
     "data": {
      "text/html": [
       "<div>\n",
       "<style scoped>\n",
       "    .dataframe tbody tr th:only-of-type {\n",
       "        vertical-align: middle;\n",
       "    }\n",
       "\n",
       "    .dataframe tbody tr th {\n",
       "        vertical-align: top;\n",
       "    }\n",
       "\n",
       "    .dataframe thead th {\n",
       "        text-align: right;\n",
       "    }\n",
       "</style>\n",
       "<table border=\"1\" class=\"dataframe\">\n",
       "  <thead>\n",
       "    <tr style=\"text-align: right;\">\n",
       "      <th></th>\n",
       "      <th>tripduration</th>\n",
       "      <th>starttime</th>\n",
       "      <th>stoptime</th>\n",
       "      <th>start station id</th>\n",
       "      <th>start station name</th>\n",
       "      <th>start station latitude</th>\n",
       "      <th>start station longitude</th>\n",
       "      <th>end station id</th>\n",
       "      <th>end station name</th>\n",
       "      <th>end station latitude</th>\n",
       "      <th>end station longitude</th>\n",
       "      <th>bikeid</th>\n",
       "      <th>usertype</th>\n",
       "      <th>birth year</th>\n",
       "      <th>gender</th>\n",
       "    </tr>\n",
       "  </thead>\n",
       "  <tbody>\n",
       "    <tr>\n",
       "      <td>0</td>\n",
       "      <td>327</td>\n",
       "      <td>2019-09-01 00:00:01.9580</td>\n",
       "      <td>2019-09-01 00:05:29.3410</td>\n",
       "      <td>3733</td>\n",
       "      <td>Avenue C &amp; E 18 St</td>\n",
       "      <td>40.730563</td>\n",
       "      <td>-73.973984</td>\n",
       "      <td>504</td>\n",
       "      <td>1 Ave &amp; E 16 St</td>\n",
       "      <td>40.732219</td>\n",
       "      <td>-73.981656</td>\n",
       "      <td>39213</td>\n",
       "      <td>Subscriber</td>\n",
       "      <td>1968</td>\n",
       "      <td>1</td>\n",
       "    </tr>\n",
       "    <tr>\n",
       "      <td>1</td>\n",
       "      <td>1145</td>\n",
       "      <td>2019-09-01 00:00:04.1430</td>\n",
       "      <td>2019-09-01 00:19:09.8360</td>\n",
       "      <td>3329</td>\n",
       "      <td>Degraw St &amp; Smith St</td>\n",
       "      <td>40.682915</td>\n",
       "      <td>-73.993182</td>\n",
       "      <td>270</td>\n",
       "      <td>Adelphi St &amp; Myrtle Ave</td>\n",
       "      <td>40.693083</td>\n",
       "      <td>-73.971789</td>\n",
       "      <td>21257</td>\n",
       "      <td>Customer</td>\n",
       "      <td>1969</td>\n",
       "      <td>0</td>\n",
       "    </tr>\n",
       "    <tr>\n",
       "      <td>2</td>\n",
       "      <td>1293</td>\n",
       "      <td>2019-09-01 00:00:07.3090</td>\n",
       "      <td>2019-09-01 00:21:40.7580</td>\n",
       "      <td>3168</td>\n",
       "      <td>Central Park West &amp; W 85 St</td>\n",
       "      <td>40.784727</td>\n",
       "      <td>-73.969617</td>\n",
       "      <td>423</td>\n",
       "      <td>W 54 St &amp; 9 Ave</td>\n",
       "      <td>40.765849</td>\n",
       "      <td>-73.986905</td>\n",
       "      <td>15242</td>\n",
       "      <td>Customer</td>\n",
       "      <td>1969</td>\n",
       "      <td>0</td>\n",
       "    </tr>\n",
       "    <tr>\n",
       "      <td>3</td>\n",
       "      <td>1753</td>\n",
       "      <td>2019-09-01 00:00:08.0640</td>\n",
       "      <td>2019-09-01 00:29:21.5040</td>\n",
       "      <td>3299</td>\n",
       "      <td>E 98 St &amp; Park Ave</td>\n",
       "      <td>40.788130</td>\n",
       "      <td>-73.952060</td>\n",
       "      <td>3160</td>\n",
       "      <td>Central Park West &amp; W 76 St</td>\n",
       "      <td>40.778968</td>\n",
       "      <td>-73.973747</td>\n",
       "      <td>38760</td>\n",
       "      <td>Subscriber</td>\n",
       "      <td>1990</td>\n",
       "      <td>1</td>\n",
       "    </tr>\n",
       "    <tr>\n",
       "      <td>4</td>\n",
       "      <td>613</td>\n",
       "      <td>2019-09-01 00:00:12.8510</td>\n",
       "      <td>2019-09-01 00:10:26.1850</td>\n",
       "      <td>486</td>\n",
       "      <td>Broadway &amp; W 29 St</td>\n",
       "      <td>40.746201</td>\n",
       "      <td>-73.988557</td>\n",
       "      <td>478</td>\n",
       "      <td>11 Ave &amp; W 41 St</td>\n",
       "      <td>40.760301</td>\n",
       "      <td>-73.998842</td>\n",
       "      <td>32094</td>\n",
       "      <td>Subscriber</td>\n",
       "      <td>1992</td>\n",
       "      <td>1</td>\n",
       "    </tr>\n",
       "  </tbody>\n",
       "</table>\n",
       "</div>"
      ],
      "text/plain": [
       "   tripduration                 starttime                  stoptime  \\\n",
       "0           327  2019-09-01 00:00:01.9580  2019-09-01 00:05:29.3410   \n",
       "1          1145  2019-09-01 00:00:04.1430  2019-09-01 00:19:09.8360   \n",
       "2          1293  2019-09-01 00:00:07.3090  2019-09-01 00:21:40.7580   \n",
       "3          1753  2019-09-01 00:00:08.0640  2019-09-01 00:29:21.5040   \n",
       "4           613  2019-09-01 00:00:12.8510  2019-09-01 00:10:26.1850   \n",
       "\n",
       "   start station id           start station name  start station latitude  \\\n",
       "0              3733           Avenue C & E 18 St               40.730563   \n",
       "1              3329         Degraw St & Smith St               40.682915   \n",
       "2              3168  Central Park West & W 85 St               40.784727   \n",
       "3              3299           E 98 St & Park Ave               40.788130   \n",
       "4               486           Broadway & W 29 St               40.746201   \n",
       "\n",
       "   start station longitude  end station id             end station name  \\\n",
       "0               -73.973984             504              1 Ave & E 16 St   \n",
       "1               -73.993182             270      Adelphi St & Myrtle Ave   \n",
       "2               -73.969617             423              W 54 St & 9 Ave   \n",
       "3               -73.952060            3160  Central Park West & W 76 St   \n",
       "4               -73.988557             478             11 Ave & W 41 St   \n",
       "\n",
       "   end station latitude  end station longitude  bikeid    usertype  \\\n",
       "0             40.732219             -73.981656   39213  Subscriber   \n",
       "1             40.693083             -73.971789   21257    Customer   \n",
       "2             40.765849             -73.986905   15242    Customer   \n",
       "3             40.778968             -73.973747   38760  Subscriber   \n",
       "4             40.760301             -73.998842   32094  Subscriber   \n",
       "\n",
       "   birth year  gender  \n",
       "0        1968       1  \n",
       "1        1969       0  \n",
       "2        1969       0  \n",
       "3        1990       1  \n",
       "4        1992       1  "
      ]
     },
     "execution_count": 118,
     "metadata": {},
     "output_type": "execute_result"
    }
   ],
   "source": [
    "data.head()"
   ]
  },
  {
   "cell_type": "code",
   "execution_count": 119,
   "metadata": {},
   "outputs": [
    {
     "data": {
      "text/html": [
       "<div>\n",
       "<style scoped>\n",
       "    .dataframe tbody tr th:only-of-type {\n",
       "        vertical-align: middle;\n",
       "    }\n",
       "\n",
       "    .dataframe tbody tr th {\n",
       "        vertical-align: top;\n",
       "    }\n",
       "\n",
       "    .dataframe thead th {\n",
       "        text-align: right;\n",
       "    }\n",
       "</style>\n",
       "<table border=\"1\" class=\"dataframe\">\n",
       "  <thead>\n",
       "    <tr style=\"text-align: right;\">\n",
       "      <th></th>\n",
       "      <th>starttime</th>\n",
       "      <th>start station id</th>\n",
       "      <th>start station name</th>\n",
       "      <th>stoptime</th>\n",
       "      <th>end station id</th>\n",
       "      <th>end station name</th>\n",
       "    </tr>\n",
       "  </thead>\n",
       "  <tbody>\n",
       "    <tr>\n",
       "      <td>0</td>\n",
       "      <td>2019-09-01 00:00:01.9580</td>\n",
       "      <td>3733</td>\n",
       "      <td>Avenue C &amp; E 18 St</td>\n",
       "      <td>2019-09-01 00:05:29.3410</td>\n",
       "      <td>504</td>\n",
       "      <td>1 Ave &amp; E 16 St</td>\n",
       "    </tr>\n",
       "    <tr>\n",
       "      <td>1</td>\n",
       "      <td>2019-09-01 00:00:04.1430</td>\n",
       "      <td>3329</td>\n",
       "      <td>Degraw St &amp; Smith St</td>\n",
       "      <td>2019-09-01 00:19:09.8360</td>\n",
       "      <td>270</td>\n",
       "      <td>Adelphi St &amp; Myrtle Ave</td>\n",
       "    </tr>\n",
       "    <tr>\n",
       "      <td>2</td>\n",
       "      <td>2019-09-01 00:00:07.3090</td>\n",
       "      <td>3168</td>\n",
       "      <td>Central Park West &amp; W 85 St</td>\n",
       "      <td>2019-09-01 00:21:40.7580</td>\n",
       "      <td>423</td>\n",
       "      <td>W 54 St &amp; 9 Ave</td>\n",
       "    </tr>\n",
       "    <tr>\n",
       "      <td>3</td>\n",
       "      <td>2019-09-01 00:00:08.0640</td>\n",
       "      <td>3299</td>\n",
       "      <td>E 98 St &amp; Park Ave</td>\n",
       "      <td>2019-09-01 00:29:21.5040</td>\n",
       "      <td>3160</td>\n",
       "      <td>Central Park West &amp; W 76 St</td>\n",
       "    </tr>\n",
       "    <tr>\n",
       "      <td>4</td>\n",
       "      <td>2019-09-01 00:00:12.8510</td>\n",
       "      <td>486</td>\n",
       "      <td>Broadway &amp; W 29 St</td>\n",
       "      <td>2019-09-01 00:10:26.1850</td>\n",
       "      <td>478</td>\n",
       "      <td>11 Ave &amp; W 41 St</td>\n",
       "    </tr>\n",
       "    <tr>\n",
       "      <td>...</td>\n",
       "      <td>...</td>\n",
       "      <td>...</td>\n",
       "      <td>...</td>\n",
       "      <td>...</td>\n",
       "      <td>...</td>\n",
       "      <td>...</td>\n",
       "    </tr>\n",
       "    <tr>\n",
       "      <td>2444895</td>\n",
       "      <td>2019-09-30 23:59:22.7670</td>\n",
       "      <td>3314</td>\n",
       "      <td>W 95 St &amp; Broadway</td>\n",
       "      <td>2019-10-01 00:28:47.3180</td>\n",
       "      <td>3161</td>\n",
       "      <td>W 76 St &amp; Columbus Ave</td>\n",
       "    </tr>\n",
       "    <tr>\n",
       "      <td>2444896</td>\n",
       "      <td>2019-09-30 23:59:27.9270</td>\n",
       "      <td>316</td>\n",
       "      <td>Fulton St &amp; William St</td>\n",
       "      <td>2019-10-01 00:05:46.5700</td>\n",
       "      <td>327</td>\n",
       "      <td>Vesey Pl &amp; River Terrace</td>\n",
       "    </tr>\n",
       "    <tr>\n",
       "      <td>2444897</td>\n",
       "      <td>2019-09-30 23:59:29.1450</td>\n",
       "      <td>3260</td>\n",
       "      <td>Mercer St &amp; Bleecker St</td>\n",
       "      <td>2019-10-01 00:08:50.8070</td>\n",
       "      <td>393</td>\n",
       "      <td>E 5 St &amp; Avenue C</td>\n",
       "    </tr>\n",
       "    <tr>\n",
       "      <td>2444898</td>\n",
       "      <td>2019-09-30 23:59:42.2520</td>\n",
       "      <td>3746</td>\n",
       "      <td>6 Ave &amp; Broome St</td>\n",
       "      <td>2019-10-01 00:04:54.2320</td>\n",
       "      <td>3435</td>\n",
       "      <td>Grand St &amp; Elizabeth St</td>\n",
       "    </tr>\n",
       "    <tr>\n",
       "      <td>2444899</td>\n",
       "      <td>2019-09-30 23:59:55.3740</td>\n",
       "      <td>331</td>\n",
       "      <td>Pike St &amp; Monroe St</td>\n",
       "      <td>2019-10-01 00:24:55.8400</td>\n",
       "      <td>2012</td>\n",
       "      <td>E 27 St &amp; 1 Ave</td>\n",
       "    </tr>\n",
       "  </tbody>\n",
       "</table>\n",
       "<p>2444900 rows × 6 columns</p>\n",
       "</div>"
      ],
      "text/plain": [
       "                        starttime  start station id  \\\n",
       "0        2019-09-01 00:00:01.9580              3733   \n",
       "1        2019-09-01 00:00:04.1430              3329   \n",
       "2        2019-09-01 00:00:07.3090              3168   \n",
       "3        2019-09-01 00:00:08.0640              3299   \n",
       "4        2019-09-01 00:00:12.8510               486   \n",
       "...                           ...               ...   \n",
       "2444895  2019-09-30 23:59:22.7670              3314   \n",
       "2444896  2019-09-30 23:59:27.9270               316   \n",
       "2444897  2019-09-30 23:59:29.1450              3260   \n",
       "2444898  2019-09-30 23:59:42.2520              3746   \n",
       "2444899  2019-09-30 23:59:55.3740               331   \n",
       "\n",
       "                  start station name                  stoptime  \\\n",
       "0                 Avenue C & E 18 St  2019-09-01 00:05:29.3410   \n",
       "1               Degraw St & Smith St  2019-09-01 00:19:09.8360   \n",
       "2        Central Park West & W 85 St  2019-09-01 00:21:40.7580   \n",
       "3                 E 98 St & Park Ave  2019-09-01 00:29:21.5040   \n",
       "4                 Broadway & W 29 St  2019-09-01 00:10:26.1850   \n",
       "...                              ...                       ...   \n",
       "2444895           W 95 St & Broadway  2019-10-01 00:28:47.3180   \n",
       "2444896       Fulton St & William St  2019-10-01 00:05:46.5700   \n",
       "2444897      Mercer St & Bleecker St  2019-10-01 00:08:50.8070   \n",
       "2444898            6 Ave & Broome St  2019-10-01 00:04:54.2320   \n",
       "2444899          Pike St & Monroe St  2019-10-01 00:24:55.8400   \n",
       "\n",
       "         end station id             end station name  \n",
       "0                   504              1 Ave & E 16 St  \n",
       "1                   270      Adelphi St & Myrtle Ave  \n",
       "2                   423              W 54 St & 9 Ave  \n",
       "3                  3160  Central Park West & W 76 St  \n",
       "4                   478             11 Ave & W 41 St  \n",
       "...                 ...                          ...  \n",
       "2444895            3161       W 76 St & Columbus Ave  \n",
       "2444896             327     Vesey Pl & River Terrace  \n",
       "2444897             393            E 5 St & Avenue C  \n",
       "2444898            3435      Grand St & Elizabeth St  \n",
       "2444899            2012              E 27 St & 1 Ave  \n",
       "\n",
       "[2444900 rows x 6 columns]"
      ]
     },
     "execution_count": 119,
     "metadata": {},
     "output_type": "execute_result"
    }
   ],
   "source": [
    "# Set up for data frame: starttime, stoptime, start id, start name, availableDocks, totalDocks, end id, end name, availableDocks, totalDocks\n",
    "\n",
    "keep_columns = ['starttime', 'start station id', 'start station name', 'stoptime', 'end station id', 'end station name']\n",
    "new_data = data[keep_columns]\n",
    "new_data\n",
    "#new_data.to_csv(\"citibike_new.csv\", index=False)\n",
    "\n",
    "#what would be better csv to dicts, or dicts into this csv ???\n"
   ]
  },
  {
   "cell_type": "code",
   "execution_count": 120,
   "metadata": {},
   "outputs": [
    {
     "name": "stdout",
     "output_type": "stream",
     "text": [
      "         start station id                 starttime\n",
      "0                    3733  2019-09-01 00:00:01.9580\n",
      "1                    3329  2019-09-01 00:00:04.1430\n",
      "2                    3168  2019-09-01 00:00:07.3090\n",
      "3                    3299  2019-09-01 00:00:08.0640\n",
      "4                     486  2019-09-01 00:00:12.8510\n",
      "...                   ...                       ...\n",
      "2444895              3314  2019-09-30 23:59:22.7670\n",
      "2444896               316  2019-09-30 23:59:27.9270\n",
      "2444897              3260  2019-09-30 23:59:29.1450\n",
      "2444898              3746  2019-09-30 23:59:42.2520\n",
      "2444899               331  2019-09-30 23:59:55.3740\n",
      "\n",
      "[2444900 rows x 2 columns]\n",
      "         end station id                  stoptime\n",
      "0                   504  2019-09-01 00:05:29.3410\n",
      "1                   270  2019-09-01 00:19:09.8360\n",
      "2                   423  2019-09-01 00:21:40.7580\n",
      "3                  3160  2019-09-01 00:29:21.5040\n",
      "4                   478  2019-09-01 00:10:26.1850\n",
      "...                 ...                       ...\n",
      "2444895            3161  2019-10-01 00:28:47.3180\n",
      "2444896             327  2019-10-01 00:05:46.5700\n",
      "2444897             393  2019-10-01 00:08:50.8070\n",
      "2444898            3435  2019-10-01 00:04:54.2320\n",
      "2444899            2012  2019-10-01 00:24:55.8400\n",
      "\n",
      "[2444900 rows x 2 columns]\n"
     ]
    }
   ],
   "source": [
    "# want to create 2 arrays, one with start times and one with end times/ so split the data\n",
    "# csv called new_data\n",
    "\n",
    "\"\"\"\n",
    "start_time = []\n",
    "start_id = []\n",
    "end_time = []\n",
    "end_id = []\n",
    "start = []\n",
    "end = []\n",
    "\n",
    "for column in new_data:\n",
    "    if(column == \"starttime\"):\n",
    "        start_time = new_data[column]\n",
    "    if(column == \"start station id\"):\n",
    "        start_id = new_data[column]\n",
    "    if(column == \"stoptime\"):\n",
    "        end_time = new_data[column]\n",
    "    if(column == \"end station id\"):\n",
    "        end_id = new_data[column]    \n",
    "\n",
    "#for i in range(len(start_id)):\n",
    " #   start.append([start_id[i], start_time[i]])\n",
    "\"\"\"\n",
    "\n",
    "# research easier to leave as data frame then convert to dictionary\n",
    "\n",
    "start_data = new_data[['start station id', 'starttime']]\n",
    "end_data = new_data[['end station id', 'stoptime']]\n",
    "\n",
    "print(start_data)\n",
    "print(end_data)\n",
    "\n"
   ]
  },
  {
   "cell_type": "code",
   "execution_count": 123,
   "metadata": {},
   "outputs": [
    {
     "name": "stdout",
     "output_type": "stream",
     "text": [
      "<class 'dict'>\n",
      "dict_keys(['start station id', 'starttime'])\n",
      "3733 2019-09-01 00:00:01.9580\n",
      "\n",
      "{'id': 237, 'availableDocks': 29, 'totalDocks': 39, 'availableBikes': 9}\n",
      "237\n",
      "\n",
      "done\n"
     ]
    }
   ],
   "source": [
    "# add the start data into id_dict by station id\n",
    "# first take data frame and make it a dictionary\n",
    "\n",
    "start_data_dict = start_data.to_dict()\n",
    "end_data_dict = end_data.to_dict()\n",
    "\n",
    "# looking at types, some keys, and some values\n",
    "print(type(start_data_dict))\n",
    "print(start_data_dict.keys())\n",
    "print(start_data_dict['start station id'][0], start_data_dict['starttime'][0])\n",
    "print()\n",
    "\n",
    "# see before hand what is inside id_dict on a station id key\n",
    "print(id_dict[237])\n",
    "print(id_dict[237]['id'])\n",
    "print()\n",
    "\n",
    "for each_id in id_dict:\n",
    "    start_time = []\n",
    "    #print(\"each id is \" + str(each_id))\n",
    "    for check_id in start_data_dict['start station id']:\n",
    "        #print(\"check id is \" + str(check_id) + \"start_data_dict at check id is \" + str(start_data_dict['start station id'][check_id]))\n",
    "        if(each_id == start_data_dict['start station id'][check_id]):\n",
    "            start_time.append(start_data_dict['starttime'][check_id])\n",
    "    id_dict[each_id].update({'starttime':start_time})\n",
    "\n",
    "print(\"done\")"
   ]
  },
  {
   "cell_type": "code",
   "execution_count": 126,
   "metadata": {},
   "outputs": [
    {
     "name": "stdout",
     "output_type": "stream",
     "text": [
      "['2019-09-01 00:38:36.5400', '2019-09-01 01:08:48.0550', '2019-09-01 01:17:14.7980', '2019-09-01 01:23:02.2410']\n"
     ]
    }
   ],
   "source": [
    "# print out new id_dict with starttime created and see the first four entries\n",
    "\n",
    "print(id_dict[301]['starttime'][0:4])"
   ]
  },
  {
   "cell_type": "code",
   "execution_count": 127,
   "metadata": {},
   "outputs": [
    {
     "name": "stdout",
     "output_type": "stream",
     "text": [
      "done\n"
     ]
    }
   ],
   "source": [
    "# add the end data into id_dict by station id\n",
    "# take data frame and make it a dictionary\n",
    "\n",
    "for each_id in id_dict:\n",
    "    stop_time = []\n",
    "    #print(\"each id is \" + str(each_id))\n",
    "    for check_id in end_data_dict['end station id']:\n",
    "        #print(\"check id is \" + str(check_id) + \"end_data_dict at check id is \" + str(end_data_dict['end station id'][check_id]))\n",
    "        if(each_id == end_data_dict['end station id'][check_id]):\n",
    "            stop_time.append(end_data_dict['stoptime'][check_id])\n",
    "    id_dict[each_id].update({'stoptime':stop_time})\n",
    "    \n",
    "print(\"done\")"
   ]
  },
  {
   "cell_type": "code",
   "execution_count": 129,
   "metadata": {},
   "outputs": [
    {
     "name": "stdout",
     "output_type": "stream",
     "text": [
      "['2019-09-01 00:31:32.7140', '2019-09-01 01:37:35.7480', '2019-09-01 02:24:38.3300', '2019-09-01 03:19:33.9960']\n"
     ]
    }
   ],
   "source": [
    "# show the same with stoptime \n",
    "\n",
    "print(id_dict[301]['stoptime'][0:4])\n",
    "\n",
    "#now id_dict has station id, available docks, total bikes, available bikes start times, and end times for the month of september."
   ]
  },
  {
   "cell_type": "code",
   "execution_count": 133,
   "metadata": {},
   "outputs": [],
   "source": [
    "# now we want to pick the top station with most available docks and run each day and time\n"
   ]
  }
 ],
 "metadata": {
  "kernelspec": {
   "display_name": "Python 3",
   "language": "python",
   "name": "python3"
  },
  "language_info": {
   "codemirror_mode": {
    "name": "ipython",
    "version": 3
   },
   "file_extension": ".py",
   "mimetype": "text/x-python",
   "name": "python",
   "nbconvert_exporter": "python",
   "pygments_lexer": "ipython3",
   "version": "3.7.4"
  }
 },
 "nbformat": 4,
 "nbformat_minor": 2
}
